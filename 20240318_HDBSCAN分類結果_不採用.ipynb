{
 "cells": [
  {
   "cell_type": "code",
   "execution_count": 1,
   "id": "4f449be3-1329-454b-a82f-79a1072a58bb",
   "metadata": {
    "tags": []
   },
   "outputs": [],
   "source": [
    "import pandas as pd,os,SenaoDB"
   ]
  },
  {
   "cell_type": "code",
   "execution_count": null,
   "id": "0317a84b-4fae-4abc-90ea-15720766c21a",
   "metadata": {},
   "outputs": [],
   "source": [
    "today=pd.Timestamp.now().strftime('%Y%m%d')\n",
    "today"
   ]
  },
  {
   "cell_type": "code",
   "execution_count": 2,
   "id": "be6df4c8-b63f-47c3-92ff-d75e96fae324",
   "metadata": {
    "tags": []
   },
   "outputs": [],
   "source": [
    "db=SenaoDB.DB()"
   ]
  },
  {
   "cell_type": "code",
   "execution_count": 3,
   "id": "282eb7fe-3a20-4131-bb49-0b386214d0b5",
   "metadata": {
    "collapsed": true,
    "jupyter": {
     "outputs_hidden": true
    },
    "tags": []
   },
   "outputs": [
    {
     "name": "stdout",
     "output_type": "stream",
     "text": [
      "Help on DB in module SenaoDB object:\n",
      "\n",
      "class DB(builtins.object)\n",
      " |  這個套件是用來連線神腦EDW\n",
      " |  使用套件，初始化DB()會直接連接DB、也會啟動db._conn\n",
      " |  db=DB()    \n",
      " |  可以使用的函數是：\n",
      " |  1.db._connect()    \n",
      " |  2.db.close()    \n",
      " |  可以使用的語法是：\n",
      " |  db.cursor.execute(sql)\n",
      " |  db.connection.commit()  \n",
      " |  \n",
      " |  可以使用的物件\n",
      " |  cnxn=db._conn\n",
      " |  engine=db._engine\n",
      " |  \n",
      " |  上傳資料範例\n",
      " |  df.to_sql('anio_StoreTrafficV6', engine, schema='ptest', if_exists='append', index=False)\n",
      " |  \n",
      " |  Methods defined here:\n",
      " |  \n",
      " |  __init__(self)\n",
      " |      Initialize self.  See help(type(self)) for accurate signature.\n",
      " |  \n",
      " |  close(self)\n",
      " |  \n",
      " |  ----------------------------------------------------------------------\n",
      " |  Readonly properties defined here:\n",
      " |  \n",
      " |  connection\n",
      " |  \n",
      " |  cursor\n",
      " |  \n",
      " |  ----------------------------------------------------------------------\n",
      " |  Data descriptors defined here:\n",
      " |  \n",
      " |  __dict__\n",
      " |      dictionary for instance variables (if defined)\n",
      " |  \n",
      " |  __weakref__\n",
      " |      list of weak references to the object (if defined)\n",
      "\n"
     ]
    }
   ],
   "source": [
    "help(db)"
   ]
  },
  {
   "cell_type": "code",
   "execution_count": 5,
   "id": "f91f075a-5829-4dc4-8c81-855e1125a54a",
   "metadata": {
    "tags": []
   },
   "outputs": [],
   "source": [
    "db.cursor.execute(\"\"\"\n",
    "--step1.執行迴圈\n",
    "truncate table ptest.Group_recommend_result;\n",
    "\n",
    "select ptest.anio_recommend_by_cluster_hdbscan();\n",
    "\"\"\")\n",
    "db.connection.commit()"
   ]
  },
  {
   "cell_type": "code",
   "execution_count": null,
   "id": "3673b72c-58cd-43db-b9e0-15966525bfce",
   "metadata": {},
   "outputs": [],
   "source": []
  }
 ],
 "metadata": {
  "kernelspec": {
   "display_name": "Python 3 (ipykernel)",
   "language": "python",
   "name": "python3"
  },
  "language_info": {
   "codemirror_mode": {
    "name": "ipython",
    "version": 3
   },
   "file_extension": ".py",
   "mimetype": "text/x-python",
   "name": "python",
   "nbconvert_exporter": "python",
   "pygments_lexer": "ipython3",
   "version": "3.10.13"
  }
 },
 "nbformat": 4,
 "nbformat_minor": 5
}
