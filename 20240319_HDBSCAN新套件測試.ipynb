{
 "cells": [
  {
   "cell_type": "code",
   "execution_count": null,
   "id": "f635855f-db82-4a27-b8ce-6ee978bb78b4",
   "metadata": {},
   "outputs": [],
   "source": [
    "# 改用hdbscan取代"
   ]
  },
  {
   "cell_type": "code",
   "execution_count": 1,
   "id": "afe1e91c-fd82-463d-a78b-3379cd8e15e2",
   "metadata": {
    "tags": []
   },
   "outputs": [],
   "source": [
    "import hdbscan\n",
    "import pandas as pd,os,sqlite3,warnings\n",
    "warnings.filterwarnings(\"ignore\", message=\".*The 'nopython' keyword.*\")\n",
    "warnings.filterwarnings('ignore', category=UserWarning)\n",
    "os.chdir(r'C:\\Users\\018363\\PythonCode')\n",
    "import SenaoDB\n",
    "from math import ceil\n",
    "from datetime import datetime\n",
    "import time\n",
    "import numpy as np\n",
    "# pd.Timestamp.today().strftime('%Y%m%d')"
   ]
  },
  {
   "cell_type": "code",
   "execution_count": null,
   "id": "1e76a120-d31b-4b25-905e-d3fc71e41010",
   "metadata": {
    "tags": []
   },
   "outputs": [],
   "source": [
    "conn=sqlite3.connect(r'C:\\Users\\018363\\Project\\20230617_sqlite3\\Lab.db')\n",
    "sql=\"\"\"\n",
    "select * from dataprocessing\n",
    "\"\"\"\n",
    "df=pd.read_sql(sql,conn)\n",
    "df.shape"
   ]
  },
  {
   "cell_type": "code",
   "execution_count": null,
   "id": "bfeecb57-cac8-4b0d-bc58-c7748e6f1e28",
   "metadata": {
    "tags": []
   },
   "outputs": [],
   "source": [
    "df_clean=df.iloc[:,1:].apply(lambda x:x.fillna(x.median()),axis=0)"
   ]
  },
  {
   "cell_type": "code",
   "execution_count": null,
   "id": "e134175e-988c-4ddb-9902-0b33e734e485",
   "metadata": {
    "tags": []
   },
   "outputs": [],
   "source": [
    "# hdb=hdbscan.HDBSCAN(algorithm='best', alpha=1.0, approx_min_span_tree=True,\n",
    "#     gen_min_span_tree=False, leaf_size=40,core_dist_n_jobs=-1,\n",
    "#     metric='euclidean', min_cluster_size=1000, min_samples=2000, p=None\n",
    "#                     # , prediction_data=True                   \n",
    "#                    )"
   ]
  },
  {
   "cell_type": "code",
   "execution_count": null,
   "id": "90a536e1-0a6f-4154-8b2a-e632c24022bf",
   "metadata": {
    "tags": []
   },
   "outputs": [],
   "source": [
    "# %%time\n",
    "# hdb.fit(df_clean.iloc[:,1:])\n",
    "# pd.Series(hdb.labels_).value_counts()"
   ]
  },
  {
   "cell_type": "code",
   "execution_count": null,
   "id": "1fc84382-77b5-4ea7-a02e-be89c34cc42a",
   "metadata": {},
   "outputs": [],
   "source": [
    "%%time\n",
    "#訓練分類器\n",
    "hdb_model=hdbscan.HDBSCAN(min_cluster_size=350, min_samples=500, prediction_data=True,core_dist_n_jobs=-1).fit(df_clean.iloc[:,1:])\n",
    "pd.Series(hdb_model.labels_).value_counts()"
   ]
  },
  {
   "cell_type": "code",
   "execution_count": null,
   "id": "87c5797c-5d30-4d28-afaa-fe44bc7878b6",
   "metadata": {},
   "outputs": [],
   "source": [
    "#寫入sqlite\n",
    "def Insert_TableV2(df):\n",
    "    conn=sqlite3.connect(r'C:\\Users\\018363\\Project\\20230617_sqlite3\\Lab.db')     \n",
    "    df.to_sql(\"hdbscan_label_\"+pd.Timestamp.today().strftime('%Y%m%d'), conn, if_exists='append', index=False)    \n",
    "    print('寫入Lab.db') \n",
    "    return()"
   ]
  },
  {
   "cell_type": "code",
   "execution_count": null,
   "id": "b2eb6fcf-2da9-49d8-9944-52093fc6348d",
   "metadata": {
    "tags": []
   },
   "outputs": [],
   "source": [
    "#設計隱函數1，T/F Y/N 轉換1/0 TF_list存放有被轉換的欄位\n",
    "def TF_encode(data, col):\n",
    "    data[col] = [1 if  i=='Y'  else 0 for i in data[col] ]\n",
    "    return data\n",
    "\n",
    "#設計隱函數2，提取日期欄位的年分\n",
    "def year_encode(data, col):\n",
    "    data[col + '_year']=[i.year if i!=0 else 0 for i in data[col]]\n",
    "    return data\n",
    "\n",
    "def trans_format(df):\n",
    "    global tp\n",
    "    tp=df.copy()\n",
    "    for i in tp.select_dtypes(include=['object']):\n",
    "        tp[i]=tp[i].astype('category')\n",
    "       \n",
    "    # #原始欄位\n",
    "    raw_columns=df.columns\n",
    "    \n",
    "    #日期欄位-需轉換\n",
    "    date_columns=tp.select_dtypes(include=['datetime64[ns]']).columns.to_list()\n",
    "    #二元非1/0欄位-需轉換\n",
    "    binary_colums=[i for i in tp.columns if  i.endswith('click')|i.endswith('pushing')|i.endswith('open')\n",
    "               |i.endswith('login')|i.startswith('is_')|i.endswith('flag')|i.startswith('active')]\n",
    "    #未轉換過的欄位(不曾轉換過&轉換完的欄位)\n",
    "    keeping=[x for x in raw_columns if x not in binary_colums+date_columns]\n",
    "    \n",
    "    for _ in binary_colums:\n",
    "        TF_encode(tp,_)\n",
    "    print('完成二元欄位轉換')\n",
    "    \n",
    "    for _ in date_columns:\n",
    "        year_encode(tp,_)\n",
    "    print('完成年度欄位轉換')\n",
    "    \n",
    "    #月日改為差距天數\n",
    "    for col in tp.select_dtypes(include=['datetime64[ns]']):\n",
    "        tp[col]=[(datetime.strptime(str(i)[:10], '%Y-%m-%d')-datetime.strptime('1900-01-01', '%Y-%m-%d')).days if pd.notna(i) else 0 for i in tp[col] ] \n",
    "    print('完成天數轉換')  \n",
    "    \n",
    "    return()"
   ]
  },
  {
   "cell_type": "markdown",
   "id": "ab171ee2-16f1-484d-8a20-daf91f14f76b",
   "metadata": {},
   "source": [
    "# 讀取全會員並且批次分類"
   ]
  },
  {
   "cell_type": "code",
   "execution_count": 2,
   "id": "1cf1b2f8-f5dd-4645-a2ed-53ff2af93a29",
   "metadata": {
    "tags": []
   },
   "outputs": [],
   "source": [
    "db=SenaoDB.DB()"
   ]
  },
  {
   "cell_type": "code",
   "execution_count": null,
   "id": "cf648ccf-49c4-42a3-8b7f-89cb3455916e",
   "metadata": {
    "tags": []
   },
   "outputs": [],
   "source": [
    "# 每個塊的大小\n",
    "batch_size = 100000\n",
    "\n",
    "# 獲取數據集的總大小\n",
    "sql=\"\"\"\n",
    "SELECT COUNT(*) from pmart.member_tag_mart  \n",
    "--where first_ec_order_date is not NULL and active_member='Y'\n",
    "\"\"\"\n",
    "db.cursor.execute(sql)\n",
    "total_records = db.cursor.fetchone()[0]\n",
    "print('全部筆數：',total_records)\n",
    "\n",
    "# 計算塊數量\n",
    "# num_batches = total_records // batch_size\n",
    "num_batches = ceil(total_records / batch_size)\n",
    "print('迭代次數：',num_batches)"
   ]
  },
  {
   "cell_type": "code",
   "execution_count": null,
   "id": "57c5a280-8329-4206-8bc6-f9c5ca813c90",
   "metadata": {
    "tags": []
   },
   "outputs": [],
   "source": [
    "# %%time\n",
    "#迭代訓練\n",
    "for batch_idx in range(num_batches):\n",
    "# for batch_idx  in range(0,1):\n",
    "# for batch_idx  in range(297,num_batches):\n",
    "    start_time = time.time()  # 開始時間\n",
    "    # 查詢塊內的數據\n",
    "    db.cursor.execute(\"\"\"SELECT\n",
    "                 member_id\n",
    "                ,age\n",
    "                ,birthday ::DATE\n",
    "                ,sex\n",
    "                ,active_member\n",
    "                ,app_latest_used_date\n",
    "                ,auth_date\n",
    "                ,is_accept_email\n",
    "                ,is_accept_sms\n",
    "                ,is_email_verified\n",
    "                ,cht_final_bis_date\n",
    "                ,cht_pre_amt\n",
    "                ,cht_pre_period\n",
    "                ,cht_tenure\n",
    "                ,is_txn\n",
    "                ,distributor_rfm_flag\n",
    "                ,first_ec_order_date\n",
    "                ,first_o2o_order_date\n",
    "                ,first_order_date\n",
    "                ,first_pos_order_date\n",
    "                ,first_pos_order_date_contract\n",
    "                ,lastest_ec_order_date\n",
    "                ,lastest_o2o_order_date\n",
    "                ,lastest_order_date\n",
    "                ,lastest_pos_order_date\n",
    "                ,lastest_pos_order_date_contract\n",
    "                ,click_1month_before_pushing\n",
    "                ,click_2months_before_pushing\n",
    "                ,click_3months_before_pushing\n",
    "                ,click_1month_after_pushing\n",
    "                ,click_2months_after_pushing\n",
    "                ,click_3months_after_pushing\n",
    "                ,this_month_click\n",
    "                ,this_month_open\n",
    "                ,last_month_open\n",
    "                ,this_month_open_click\n",
    "                ,last_month_open_click\n",
    "                ,last_3months_login\n",
    "                from pmart.member_tag_mart OFFSET %s LIMIT %s\n",
    "                \"\"\", (batch_idx * batch_size, batch_size))\n",
    "    rows = db.cursor.fetchall()\n",
    "    \n",
    "    # 獲取欄位名稱\n",
    "    columns = [desc[0] for desc in db.cursor.description]\n",
    "\n",
    "    # 將結果轉換為DataFrame\n",
    "    df = pd.DataFrame(rows, columns=columns).fillna(0)\n",
    "    \n",
    "    #原始欄位\n",
    "    raw_columns=df.columns\n",
    "#     print('處理前欄位列表',raw_columns)\n",
    "    #日期欄位-需轉換\n",
    "    date_columns=[i for i in df.columns if  i.endswith('date') | i.endswith('_date_contract')|i.startswith('birth') | i.endswith('day')]\n",
    "\n",
    "    #二元非1/0欄位-需轉換\n",
    "    binary_colums=[i for i in df.columns if  i.endswith('click')|i.endswith('pushing')|i.endswith('open')\n",
    "               |i.endswith('login')|i.startswith('is_')|i.endswith('flag')|i.startswith('active')]\n",
    "\n",
    "    #未轉換過的欄位(不曾轉換過&轉換完的欄位)\n",
    "    keeping=[x for x in raw_columns if x not in binary_colums+date_columns]  \n",
    "    \n",
    "    #轉時間\n",
    "    for i in date_columns:\n",
    "        try:\n",
    "            df[i]=pd.to_datetime(df[i], errors='coerce',format='%Y-%m-%d  %H:%M:%S')    \n",
    "#     tp[date_columns] = pd.to_datetime(tp[date_columns], errors='coerce',format='%Y-%m-%d')\n",
    "        except:\n",
    "            print(i)\n",
    "    \n",
    "    #轉文字\n",
    "    #for i in tp.select_dtypes(include=['category']).columns.tolist():\n",
    "    #    tp[i]=tp[i].astype('object')\n",
    "        \n",
    "    df['cht_pre_period']=df['cht_pre_period'].astype(int)\n",
    "    \n",
    "    df['cht_pre_amt']=df['cht_pre_amt'].astype(int)\n",
    "    \n",
    "   #執行轉換\n",
    "    trans_format(df)    \n",
    "            \n",
    "    #one-hot-encoding\n",
    "    one_hot_columns=[]\n",
    "    one_hot_columns=tp.select_dtypes(include=['category']).columns.tolist()\n",
    "    one_hot_columns.remove('member_id')\n",
    "    \n",
    "    #clone df\n",
    "    df3=tp[one_hot_columns].copy()\n",
    "    df_dummy=pd.get_dummies(df3,dtype=int)    \n",
    "    df_final=pd.concat([tp.loc[:,~tp.columns.isin(one_hot_columns)], df_dummy], axis=1)\n",
    "#     df_final=tp.loc[:,~tp.columns.isin(one_hot_columns)]\n",
    "    print('分類資料維度：',df_final.shape)\n",
    "    # 將數據轉換為NumPy數組\n",
    "    # X = np.array(df_final.iloc[:,1:].fillna(0))\n",
    "\n",
    "    #可以不轉nparray\n",
    "    X = df_final.iloc[:,1:].fillna(0)\n",
    "\n",
    "    # 使用分類器分類\n",
    "    test_labels, strengths = hdbscan.approximate_predict(hdb_model,X.iloc[:,1:])\n",
    "    end_time = time.time()  # 結束時間\n",
    "    processing_time = end_time - start_time  # 處理時間（秒）\n",
    "    print(\"Processed batch\", batch_idx + 1, \"of\", num_batches,'處理時間(秒)：',processing_time)\n",
    "\n",
    "#獲取每個樣本的分類\n",
    "    labels = test_labels\n",
    "\n",
    "#分群結果\n",
    "    result=pd.DataFrame({'member_id':df['member_id'],'Group':labels,'CreateDate':datetime.today().strftime('%Y%m%d')})\n",
    "    print(result['Group'].value_counts().sort_index())\n",
    "\n",
    "#將結果存儲到SQLite3\n",
    "    try:\n",
    "        Insert_TableV2(result)\n",
    "    except psycopg2.OperationalError as e:\n",
    "        print(\"資料庫連結異常：\", str(e))\n",
    "\n",
    "try:\n",
    "    engine.dispose()\n",
    "except:\n",
    "    pass\n",
    "# 提交並關閉連接\n",
    "# conn.commit()\n",
    "# cur.close()\n",
    "# conn.close()"
   ]
  },
  {
   "cell_type": "code",
   "execution_count": null,
   "id": "4e483fad-df59-4ab1-b563-8e1693bf6f03",
   "metadata": {
    "tags": []
   },
   "outputs": [],
   "source": [
    "# df_dummy"
   ]
  },
  {
   "cell_type": "code",
   "execution_count": null,
   "id": "89af2da5-a32e-403d-b28d-21bcbebdb981",
   "metadata": {
    "tags": []
   },
   "outputs": [],
   "source": [
    "#分類新數據\n",
    "# test_labels, strengths = hdbscan.approximate_predict(hdb_model,df_clean.iloc[10000:10100,1:])\n",
    "# test_labels"
   ]
  },
  {
   "cell_type": "code",
   "execution_count": null,
   "id": "8341d73e-4853-4e42-ab00-8060dd173472",
   "metadata": {
    "tags": []
   },
   "outputs": [],
   "source": [
    "# hdbscan_result=df_clean.iloc[:40000,:1].copy()\n",
    "# hdbscan_result=df.iloc[:,:1].copy()\n",
    "# hdbscan_result['HDBSCAN']=hdb.labels_\n",
    "# hdbscan_result['createdate']=pd.Timestamp.today().strftime('%Y%m%d')"
   ]
  },
  {
   "cell_type": "markdown",
   "id": "6a9eb99e-9fe6-46c4-bc17-428700eeac7f",
   "metadata": {
    "collapsed": true,
    "jupyter": {
     "outputs_hidden": true
    },
    "tags": []
   },
   "source": [
    "# 讀取結果"
   ]
  },
  {
   "cell_type": "code",
   "execution_count": null,
   "id": "afc7615c-0aa6-4b17-a76d-15fba52704cc",
   "metadata": {
    "tags": []
   },
   "outputs": [],
   "source": [
    "#%%time\n",
    "#檢查結果\n",
    "conn=sqlite3.connect(r'C:\\Users\\018363\\Project\\20230617_sqlite3\\Lab.db')\n",
    "sql=f\"\"\"\n",
    "select * from {\"hdbscan_label_\"+datetime.today().strftime('%Y%m%d')}\n",
    "\"\"\"\n",
    "df22=pd.read_sql(sql,conn)\n",
    "df22.shape"
   ]
  },
  {
   "cell_type": "code",
   "execution_count": null,
   "id": "d9eaa979-9923-4ba4-901f-ea532456fa86",
   "metadata": {},
   "outputs": [],
   "source": [
    "#寫入EDW\n",
    "def Insert_Table(df,table_name,schema):\n",
    "    db=SenaoDB.DB()\n",
    "    engine=db._engine\n",
    "    df.to_sql(table_name, engine,schema=schema,if_exists='replace',index=False)    \n",
    "    print('寫入')\n",
    "    return()\n",
    "    engine.dispose()\n",
    "    db.close()"
   ]
  },
  {
   "cell_type": "code",
   "execution_count": null,
   "id": "1a7e9d0a-15aa-4433-841d-0766294bf732",
   "metadata": {
    "tags": []
   },
   "outputs": [],
   "source": [
    "Insert_Table(df22,'anio_hdbscan_result','ptest')"
   ]
  },
  {
   "cell_type": "markdown",
   "id": "5e251120-9b05-4744-9c70-18f3e5284578",
   "metadata": {
    "tags": []
   },
   "source": [
    "# 計算各群推薦賣場"
   ]
  },
  {
   "cell_type": "code",
   "execution_count": 3,
   "id": "16a01513-0ae4-4662-94b4-3110f8cce7d5",
   "metadata": {},
   "outputs": [
    {
     "name": "stdout",
     "output_type": "stream",
     "text": [
      "Help on DB in module SenaoDB object:\n",
      "\n",
      "class DB(builtins.object)\n",
      " |  這個套件是用來連線神腦EDW\n",
      " |  使用套件，初始化DB()會直接連接DB、也會啟動db._conn\n",
      " |  db=DB()    \n",
      " |  可以使用的函數是：\n",
      " |  1.db._connect()    \n",
      " |  2.db.close()    \n",
      " |  可以使用的語法是：\n",
      " |  db.cursor.execute(sql)\n",
      " |  db.connection.commit()  \n",
      " |  \n",
      " |  可以使用的物件\n",
      " |  cnxn=db._conn\n",
      " |  engine=db._engine\n",
      " |  \n",
      " |  上傳資料範例\n",
      " |  df.to_sql('anio_StoreTrafficV6', engine, schema='ptest', if_exists='append', index=False)\n",
      " |  \n",
      " |  Methods defined here:\n",
      " |  \n",
      " |  __init__(self)\n",
      " |      Initialize self.  See help(type(self)) for accurate signature.\n",
      " |  \n",
      " |  close(self)\n",
      " |  \n",
      " |  ----------------------------------------------------------------------\n",
      " |  Readonly properties defined here:\n",
      " |  \n",
      " |  connection\n",
      " |  \n",
      " |  cursor\n",
      " |  \n",
      " |  ----------------------------------------------------------------------\n",
      " |  Data descriptors defined here:\n",
      " |  \n",
      " |  __dict__\n",
      " |      dictionary for instance variables (if defined)\n",
      " |  \n",
      " |  __weakref__\n",
      " |      list of weak references to the object (if defined)\n",
      "\n"
     ]
    }
   ],
   "source": [
    "help(db)"
   ]
  },
  {
   "cell_type": "code",
   "execution_count": null,
   "id": "2e4342cf-5c94-4ff9-a204-d7fe8c3b9fed",
   "metadata": {},
   "outputs": [],
   "source": [
    "sql=\"\"\"\n",
    "--step1.執行迴圈\n",
    "truncate table ptest.Group_recommend_result;\n",
    "\n",
    "select ptest.anio_recommend_by_cluster_hdbscan();\n",
    "\"\"\"\n",
    "db.cursor.execute(sql)\n",
    "db.connection.commit()"
   ]
  },
  {
   "cell_type": "code",
   "execution_count": null,
   "id": "4d9664ca-6be5-45ff-848c-c248a44b668f",
   "metadata": {},
   "outputs": [],
   "source": []
  }
 ],
 "metadata": {
  "kernelspec": {
   "display_name": "Python 3 (ipykernel)",
   "language": "python",
   "name": "python3"
  },
  "language_info": {
   "codemirror_mode": {
    "name": "ipython",
    "version": 3
   },
   "file_extension": ".py",
   "mimetype": "text/x-python",
   "name": "python",
   "nbconvert_exporter": "python",
   "pygments_lexer": "ipython3",
   "version": "3.10.13"
  }
 },
 "nbformat": 4,
 "nbformat_minor": 5
}
